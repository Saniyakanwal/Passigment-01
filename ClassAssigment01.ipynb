{
  "nbformat": 4,
  "nbformat_minor": 0,
  "metadata": {
    "colab": {
      "provenance": [],
      "authorship_tag": "ABX9TyMwviMGro5XzzogAzgjHoiB",
      "include_colab_link": true
    },
    "kernelspec": {
      "name": "python3",
      "display_name": "Python 3"
    },
    "language_info": {
      "name": "python"
    }
  },
  "cells": [
    {
      "cell_type": "markdown",
      "metadata": {
        "id": "view-in-github",
        "colab_type": "text"
      },
      "source": [
        "<a href=\"https://colab.research.google.com/github/Saniyakanwal/Passigment-01/blob/main/ClassAssigment01.ipynb\" target=\"_parent\"><img src=\"https://colab.research.google.com/assets/colab-badge.svg\" alt=\"Open In Colab\"/></a>"
      ]
    },
    {
      "cell_type": "code",
      "execution_count": null,
      "metadata": {
        "colab": {
          "base_uri": "https://localhost:8080/"
        },
        "id": "z1C1iGIybbmz",
        "outputId": "67b1601d-4139-4af4-c9fb-e801c22a3d97"
      },
      "outputs": [
        {
          "output_type": "stream",
          "name": "stdout",
          "text": [
            "this is single quote string\n",
            "this is double quote string\n",
            "This is a multi-line\n",
            "string using triple quotes\n",
            "in Python.\n",
            "she said,It's a beautiful day\n",
            "I like cooking and baking and I love experimenting \n",
            " with new recipes, and i learned recipes by watching \n",
            " youtube videos.\n"
          ]
        }
      ],
      "source": [
        "# Part 1: Understanding String Literals\n",
        "\n",
        "# 1. Create three different strings using each type of quotation:\n",
        "# single quotes:\n",
        "single_quote = 'this is single quote string'\n",
        "print(single_quote)\n",
        "\n",
        "# double quotes\n",
        "double_quote = \"this is double quote string\"\n",
        "print(double_quote)\n",
        "\n",
        "# triple quotes\n",
        "triple_quote = '''This is a multi-line\n",
        "string using triple quotes\n",
        "in Python.'''\n",
        "print(triple_quote)\n",
        "\n",
        "\n",
        "# 2. Explain in your own words: What is the advantage of each type of quotation?\n",
        "\n",
        "# single and double quotes used for single line string and triple quotes used for multiples lines or documentations (docstring)\n",
        "\n",
        "\n",
        "# 3. Write a string that contains both single and double quotes inside it.\n",
        "text = \"she said,It's a beautiful day\"\n",
        "print(text)\n",
        "\n",
        "\n",
        "# 4. Create a multi-line string using triple quotes that describes your favorite hobby.\n",
        "\n",
        "hobby = '''I like cooking and baking and I love experimenting\n",
        " with new recipes, and i learned recipes by watching\n",
        " youtube videos.'''\n",
        "print(hobby)\n"
      ]
    },
    {
      "cell_type": "code",
      "source": [
        "# Part 2: String Methods Practice\n",
        "\n",
        "# 1. Create a variable full_name with your full name (first and last name). Then write code\n",
        "# to:\n",
        "# o Print your name in all uppercase letters\n",
        "# o Print your name in all lowercase letters\n",
        "# o Print your name with the first letter of each name capitalized\n",
        "\n",
        "full_name = \"saNiya kaNwal\"\n",
        "print(full_name.upper())\n",
        "print(full_name.lower())\n",
        "print(full_name.title())\n",
        "\n",
        "\n",
        "# 2. Create a variable messy_text = \" Python programming is fun! \" Then write code\n",
        "# to:\n",
        "# o Remove all the extra spaces at the beginning and end\n",
        "# o Replace \"fun\" with \"amazing\"\n",
        "# o Count how many times the letter 'i' appears\n",
        "\n",
        "messy_text = \" Python programming is fun! \"\n",
        "print(messy_text.strip())\n",
        "print(messy_text.replace(\"fun\", \"amazing\"))\n",
        "print(messy_text.count(\"i\"))\n",
        "\n",
        "\n",
        "# 3. Create a variable sentence = \"The quick brown fox jumps over the lazy dog\"\n",
        "# Then write code to:\n",
        "# o Split this sentence into a list of words\n",
        "# o Join the words back together with dashes between them\n",
        "# o Check if the sentence starts with \"The\"\n",
        "# o Find the position of the word \"fox\"\n",
        "\n",
        "sentence = \"The quick brown fox jumps over the lazy dog\"\n",
        "print(sentence.split())\n",
        "dashes = sentence.split()\n",
        "print(\"-\".join(dashes))\n",
        "print(sentence.startswith(\"The\"))\n",
        "print(sentence.find(\"fox\"))"
      ],
      "metadata": {
        "colab": {
          "base_uri": "https://localhost:8080/"
        },
        "id": "uyUFRkLk2hVB",
        "outputId": "a845b290-f812-4308-bd44-c00529ea59dd"
      },
      "execution_count": null,
      "outputs": [
        {
          "output_type": "stream",
          "name": "stdout",
          "text": [
            "SANIYA KANWAL\n",
            "saniya kanwal\n",
            "Saniya Kanwal\n",
            "Python programming is fun!\n",
            " Python programming is amazing! \n",
            "2\n",
            "['The', 'quick', 'brown', 'fox', 'jumps', 'over', 'the', 'lazy', 'dog']\n",
            "The-quick-brown-fox-jumps-over-the-lazy-dog\n",
            "True\n",
            "16\n"
          ]
        }
      ]
    },
    {
      "cell_type": "code",
      "source": [
        "# Part 3: F-Strings\n",
        "\n",
        "# 1. Create variables for:\n",
        "# o Your name\n",
        "# o Your age\n",
        "# o Your favorite programming language\n",
        "# Then use f-strings to create these sentences:\n",
        "# o \"My name is {your_name} and I am {your_age} years old.\"\n",
        "# o \"I enjoy programming in {language}, it's my favorite!\"\n",
        "# o Create a math expression inside an f-string: \"In 5 years, I will be {age + 5} years\n",
        "# old.\"\n",
        "\n",
        "name= \"saniya kanwal\"\n",
        "age = 19\n",
        "language = \"HTML,CSS\"\n",
        "print(f'''\n",
        "\"My name is {name} and I am {age} years old.\"\n",
        " \"I enjoy programming in {language}, it's my favorite!\"\n",
        " \"In 5 years, I will be {age + 5} Years old\"\n",
        "''')"
      ],
      "metadata": {
        "colab": {
          "base_uri": "https://localhost:8080/"
        },
        "id": "-cwr8aBO8P2r",
        "outputId": "aee9387e-73d1-4b95-c7fd-70def04829bc"
      },
      "execution_count": null,
      "outputs": [
        {
          "output_type": "stream",
          "name": "stdout",
          "text": [
            "\n",
            "\"My name is saniya kanwal and I am 19 years old.\"\n",
            " \"I enjoy programming in HTML,CSS, it's my favorite!\"\n",
            " \"In 5 years, I will be 24 Years old\"\n",
            "\n"
          ]
        }
      ]
    },
    {
      "cell_type": "code",
      "source": [
        "# Part 4: Combining String Methods with F-Strings\n",
        "# Create a program that:\n",
        "# 1. Asks for user input about their first name, last name, and birth year\n",
        "# 2. Uses string methods to properly capitalize their name\n",
        "# 3. Uses f-strings to create a profile message: \"Profile: {First Last}, Age: {calculated age},\n",
        "# Username: {first initial + last name + birth year}\"\n",
        "\n",
        "# data\n",
        "first_name = input(\"Enter your first name: \")\n",
        "last_name = input(\"Enter your last name: \")\n",
        "birth_year = int(input(\"Enter your birth year: \"))\n",
        "\n",
        "# capitalize\n",
        "first_name = first_name.capitalize()\n",
        "last_name = last_name.capitalize()\n",
        "\n",
        "# calculated age\n",
        "current_year = 2025\n",
        "age = current_year - birth_year\n",
        "\n",
        "# username\n",
        "username = first_name[0] + last_name.lower() + str(birth_year)\n",
        "\n",
        "profile_message = f\"Profile: {first_name} {last_name}, Age: {age}, Username: {username}\"\n",
        "print(profile_message)\n"
      ],
      "metadata": {
        "id": "AyOdLpV8-A7C",
        "colab": {
          "base_uri": "https://localhost:8080/"
        },
        "outputId": "a6421e53-5b72-4aa3-b0bd-a703632d732a"
      },
      "execution_count": 4,
      "outputs": [
        {
          "output_type": "stream",
          "name": "stdout",
          "text": [
            "Enter your first name: saniya\n",
            "Enter your last name: kanwal\n",
            "Enter your birth year: 2005\n",
            "Profile: Saniya Kanwal, Age: 20, Username: Skanwal2005\n"
          ]
        }
      ]
    }
  ]
}